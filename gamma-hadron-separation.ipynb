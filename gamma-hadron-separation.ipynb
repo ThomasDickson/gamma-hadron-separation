{
 "cells": [
  {
   "cell_type": "markdown",
   "id": "e5c0150e",
   "metadata": {},
   "source": [
    "# Gamma/Hadron Separation using TensorFlow/Keras "
   ]
  },
  {
   "cell_type": "markdown",
   "id": "accc0d52",
   "metadata": {},
   "source": [
    "# Setup"
   ]
  },
  {
   "cell_type": "code",
   "execution_count": 1,
   "id": "21b318bd",
   "metadata": {},
   "outputs": [],
   "source": [
    "import tensorflow as tf\n",
    "from tensorflow import keras\n",
    "\n",
    "import pandas as pd\n",
    "import numpy as np\n",
    "import matplotlib.pyplot as plt"
   ]
  },
  {
   "cell_type": "code",
   "execution_count": 2,
   "id": "be385899",
   "metadata": {},
   "outputs": [],
   "source": [
    "data = pd.read_csv('magic04.data', header=None)"
   ]
  },
  {
   "cell_type": "code",
   "execution_count": 3,
   "id": "9e01939b",
   "metadata": {},
   "outputs": [
    {
     "data": {
      "text/html": [
       "<div>\n",
       "<style scoped>\n",
       "    .dataframe tbody tr th:only-of-type {\n",
       "        vertical-align: middle;\n",
       "    }\n",
       "\n",
       "    .dataframe tbody tr th {\n",
       "        vertical-align: top;\n",
       "    }\n",
       "\n",
       "    .dataframe thead th {\n",
       "        text-align: right;\n",
       "    }\n",
       "</style>\n",
       "<table border=\"1\" class=\"dataframe\">\n",
       "  <thead>\n",
       "    <tr style=\"text-align: right;\">\n",
       "      <th></th>\n",
       "      <th>0</th>\n",
       "      <th>1</th>\n",
       "      <th>2</th>\n",
       "      <th>3</th>\n",
       "      <th>4</th>\n",
       "      <th>5</th>\n",
       "      <th>6</th>\n",
       "      <th>7</th>\n",
       "      <th>8</th>\n",
       "      <th>9</th>\n",
       "      <th>10</th>\n",
       "    </tr>\n",
       "  </thead>\n",
       "  <tbody>\n",
       "    <tr>\n",
       "      <th>0</th>\n",
       "      <td>28.7967</td>\n",
       "      <td>16.0021</td>\n",
       "      <td>2.6449</td>\n",
       "      <td>0.3918</td>\n",
       "      <td>0.1982</td>\n",
       "      <td>27.7004</td>\n",
       "      <td>22.0110</td>\n",
       "      <td>-8.2027</td>\n",
       "      <td>40.0920</td>\n",
       "      <td>81.8828</td>\n",
       "      <td>g</td>\n",
       "    </tr>\n",
       "    <tr>\n",
       "      <th>1</th>\n",
       "      <td>31.6036</td>\n",
       "      <td>11.7235</td>\n",
       "      <td>2.5185</td>\n",
       "      <td>0.5303</td>\n",
       "      <td>0.3773</td>\n",
       "      <td>26.2722</td>\n",
       "      <td>23.8238</td>\n",
       "      <td>-9.9574</td>\n",
       "      <td>6.3609</td>\n",
       "      <td>205.2610</td>\n",
       "      <td>g</td>\n",
       "    </tr>\n",
       "    <tr>\n",
       "      <th>2</th>\n",
       "      <td>162.0520</td>\n",
       "      <td>136.0310</td>\n",
       "      <td>4.0612</td>\n",
       "      <td>0.0374</td>\n",
       "      <td>0.0187</td>\n",
       "      <td>116.7410</td>\n",
       "      <td>-64.8580</td>\n",
       "      <td>-45.2160</td>\n",
       "      <td>76.9600</td>\n",
       "      <td>256.7880</td>\n",
       "      <td>g</td>\n",
       "    </tr>\n",
       "    <tr>\n",
       "      <th>3</th>\n",
       "      <td>23.8172</td>\n",
       "      <td>9.5728</td>\n",
       "      <td>2.3385</td>\n",
       "      <td>0.6147</td>\n",
       "      <td>0.3922</td>\n",
       "      <td>27.2107</td>\n",
       "      <td>-6.4633</td>\n",
       "      <td>-7.1513</td>\n",
       "      <td>10.4490</td>\n",
       "      <td>116.7370</td>\n",
       "      <td>g</td>\n",
       "    </tr>\n",
       "    <tr>\n",
       "      <th>4</th>\n",
       "      <td>75.1362</td>\n",
       "      <td>30.9205</td>\n",
       "      <td>3.1611</td>\n",
       "      <td>0.3168</td>\n",
       "      <td>0.1832</td>\n",
       "      <td>-5.5277</td>\n",
       "      <td>28.5525</td>\n",
       "      <td>21.8393</td>\n",
       "      <td>4.6480</td>\n",
       "      <td>356.4620</td>\n",
       "      <td>g</td>\n",
       "    </tr>\n",
       "  </tbody>\n",
       "</table>\n",
       "</div>"
      ],
      "text/plain": [
       "         0         1       2       3       4         5        6        7   \\\n",
       "0   28.7967   16.0021  2.6449  0.3918  0.1982   27.7004  22.0110  -8.2027   \n",
       "1   31.6036   11.7235  2.5185  0.5303  0.3773   26.2722  23.8238  -9.9574   \n",
       "2  162.0520  136.0310  4.0612  0.0374  0.0187  116.7410 -64.8580 -45.2160   \n",
       "3   23.8172    9.5728  2.3385  0.6147  0.3922   27.2107  -6.4633  -7.1513   \n",
       "4   75.1362   30.9205  3.1611  0.3168  0.1832   -5.5277  28.5525  21.8393   \n",
       "\n",
       "        8         9  10  \n",
       "0  40.0920   81.8828  g  \n",
       "1   6.3609  205.2610  g  \n",
       "2  76.9600  256.7880  g  \n",
       "3  10.4490  116.7370  g  \n",
       "4   4.6480  356.4620  g  "
      ]
     },
     "execution_count": 3,
     "metadata": {},
     "output_type": "execute_result"
    }
   ],
   "source": [
    "data.head()"
   ]
  },
  {
   "cell_type": "markdown",
   "id": "f3effa8a",
   "metadata": {},
   "source": [
    "## Preprocessing\n",
    "\n",
    "We will perform ordinal encoding to convert target classes to binary values as the ANN will not accept string input"
   ]
  },
  {
   "cell_type": "code",
   "execution_count": 4,
   "id": "328891a0",
   "metadata": {},
   "outputs": [],
   "source": [
    "data = data.replace('g', 1) # gamma = 1\n",
    "data = data.replace('h', 0) # hadron = 0"
   ]
  },
  {
   "cell_type": "code",
   "execution_count": 5,
   "id": "89df5378",
   "metadata": {},
   "outputs": [
    {
     "data": {
      "text/html": [
       "<div>\n",
       "<style scoped>\n",
       "    .dataframe tbody tr th:only-of-type {\n",
       "        vertical-align: middle;\n",
       "    }\n",
       "\n",
       "    .dataframe tbody tr th {\n",
       "        vertical-align: top;\n",
       "    }\n",
       "\n",
       "    .dataframe thead th {\n",
       "        text-align: right;\n",
       "    }\n",
       "</style>\n",
       "<table border=\"1\" class=\"dataframe\">\n",
       "  <thead>\n",
       "    <tr style=\"text-align: right;\">\n",
       "      <th></th>\n",
       "      <th>0</th>\n",
       "      <th>1</th>\n",
       "      <th>2</th>\n",
       "      <th>3</th>\n",
       "      <th>4</th>\n",
       "      <th>5</th>\n",
       "      <th>6</th>\n",
       "      <th>7</th>\n",
       "      <th>8</th>\n",
       "      <th>9</th>\n",
       "      <th>10</th>\n",
       "    </tr>\n",
       "  </thead>\n",
       "  <tbody>\n",
       "    <tr>\n",
       "      <th>0</th>\n",
       "      <td>28.7967</td>\n",
       "      <td>16.0021</td>\n",
       "      <td>2.6449</td>\n",
       "      <td>0.3918</td>\n",
       "      <td>0.1982</td>\n",
       "      <td>27.7004</td>\n",
       "      <td>22.0110</td>\n",
       "      <td>-8.2027</td>\n",
       "      <td>40.0920</td>\n",
       "      <td>81.8828</td>\n",
       "      <td>1</td>\n",
       "    </tr>\n",
       "    <tr>\n",
       "      <th>1</th>\n",
       "      <td>31.6036</td>\n",
       "      <td>11.7235</td>\n",
       "      <td>2.5185</td>\n",
       "      <td>0.5303</td>\n",
       "      <td>0.3773</td>\n",
       "      <td>26.2722</td>\n",
       "      <td>23.8238</td>\n",
       "      <td>-9.9574</td>\n",
       "      <td>6.3609</td>\n",
       "      <td>205.2610</td>\n",
       "      <td>1</td>\n",
       "    </tr>\n",
       "    <tr>\n",
       "      <th>2</th>\n",
       "      <td>162.0520</td>\n",
       "      <td>136.0310</td>\n",
       "      <td>4.0612</td>\n",
       "      <td>0.0374</td>\n",
       "      <td>0.0187</td>\n",
       "      <td>116.7410</td>\n",
       "      <td>-64.8580</td>\n",
       "      <td>-45.2160</td>\n",
       "      <td>76.9600</td>\n",
       "      <td>256.7880</td>\n",
       "      <td>1</td>\n",
       "    </tr>\n",
       "    <tr>\n",
       "      <th>3</th>\n",
       "      <td>23.8172</td>\n",
       "      <td>9.5728</td>\n",
       "      <td>2.3385</td>\n",
       "      <td>0.6147</td>\n",
       "      <td>0.3922</td>\n",
       "      <td>27.2107</td>\n",
       "      <td>-6.4633</td>\n",
       "      <td>-7.1513</td>\n",
       "      <td>10.4490</td>\n",
       "      <td>116.7370</td>\n",
       "      <td>1</td>\n",
       "    </tr>\n",
       "    <tr>\n",
       "      <th>4</th>\n",
       "      <td>75.1362</td>\n",
       "      <td>30.9205</td>\n",
       "      <td>3.1611</td>\n",
       "      <td>0.3168</td>\n",
       "      <td>0.1832</td>\n",
       "      <td>-5.5277</td>\n",
       "      <td>28.5525</td>\n",
       "      <td>21.8393</td>\n",
       "      <td>4.6480</td>\n",
       "      <td>356.4620</td>\n",
       "      <td>1</td>\n",
       "    </tr>\n",
       "  </tbody>\n",
       "</table>\n",
       "</div>"
      ],
      "text/plain": [
       "         0         1       2       3       4         5        6        7   \\\n",
       "0   28.7967   16.0021  2.6449  0.3918  0.1982   27.7004  22.0110  -8.2027   \n",
       "1   31.6036   11.7235  2.5185  0.5303  0.3773   26.2722  23.8238  -9.9574   \n",
       "2  162.0520  136.0310  4.0612  0.0374  0.0187  116.7410 -64.8580 -45.2160   \n",
       "3   23.8172    9.5728  2.3385  0.6147  0.3922   27.2107  -6.4633  -7.1513   \n",
       "4   75.1362   30.9205  3.1611  0.3168  0.1832   -5.5277  28.5525  21.8393   \n",
       "\n",
       "        8         9   10  \n",
       "0  40.0920   81.8828   1  \n",
       "1   6.3609  205.2610   1  \n",
       "2  76.9600  256.7880   1  \n",
       "3  10.4490  116.7370   1  \n",
       "4   4.6480  356.4620   1  "
      ]
     },
     "execution_count": 5,
     "metadata": {},
     "output_type": "execute_result"
    }
   ],
   "source": [
    "data.head()"
   ]
  },
  {
   "cell_type": "markdown",
   "id": "4fcc56b6",
   "metadata": {},
   "source": [
    "## Sampling\n",
    "\n",
    "We will allocate 30% of our data set for testing and the remaining 70%| for training"
   ]
  },
  {
   "cell_type": "code",
   "execution_count": 6,
   "id": "c56d1521",
   "metadata": {},
   "outputs": [],
   "source": [
    "def split_train_test(data, test_ratio):\n",
    "    shuffled_indices = np.random.permutation(len(data))\n",
    "    test_set_size = int(len(data) * test_ratio)\n",
    "    test_indices = shuffled_indices[:test_set_size]\n",
    "    train_indices = shuffled_indices[test_set_size:]\n",
    "    return data.iloc[train_indices], data.iloc[test_indices]"
   ]
  },
  {
   "cell_type": "code",
   "execution_count": 7,
   "id": "da9894df",
   "metadata": {},
   "outputs": [],
   "source": [
    "# split 70% training, 30% test\n",
    "train_set, test_set = split_train_test(data, 0.3)"
   ]
  },
  {
   "cell_type": "code",
   "execution_count": 8,
   "id": "977c7c0e",
   "metadata": {},
   "outputs": [
    {
     "data": {
      "text/plain": [
       "0.7"
      ]
     },
     "execution_count": 8,
     "metadata": {},
     "output_type": "execute_result"
    }
   ],
   "source": [
    "len(train_set) / len(data)"
   ]
  },
  {
   "cell_type": "code",
   "execution_count": 9,
   "id": "7bc28efa",
   "metadata": {},
   "outputs": [
    {
     "data": {
      "text/plain": [
       "0.3"
      ]
     },
     "execution_count": 9,
     "metadata": {},
     "output_type": "execute_result"
    }
   ],
   "source": [
    "len(test_set) / len(data)"
   ]
  },
  {
   "cell_type": "markdown",
   "id": "81162ee2",
   "metadata": {},
   "source": [
    "Splitting into separate x and y training sets"
   ]
  },
  {
   "cell_type": "code",
   "execution_count": 10,
   "id": "c0eab75a",
   "metadata": {},
   "outputs": [],
   "source": [
    "y_train = train_set[10]\n",
    "y_test = test_set[10]\n",
    "\n",
    "x_train = train_set.drop(10, axis=1)\n",
    "x_test = test_set.drop(10, axis=1)"
   ]
  },
  {
   "cell_type": "markdown",
   "id": "07c9b586",
   "metadata": {},
   "source": [
    "# Training a Model\n",
    "\n",
    "Since we are performing binary classification, we will use a sigmoid (logistic) activation function in the output layer."
   ]
  },
  {
   "cell_type": "code",
   "execution_count": 76,
   "id": "25bd1fe3",
   "metadata": {},
   "outputs": [],
   "source": [
    "model = keras.models.Sequential([\n",
    "    keras.layers.Dense(100, activation=\"relu\"),\n",
    "    keras.layers.Dense(1, activation=\"sigmoid\")\n",
    "])"
   ]
  },
  {
   "cell_type": "code",
   "execution_count": 77,
   "id": "aa2243ab",
   "metadata": {
    "scrolled": true
   },
   "outputs": [
    {
     "name": "stdout",
     "output_type": "stream",
     "text": [
      "Model: \"sequential_8\"\n",
      "_________________________________________________________________\n",
      " Layer (type)                Output Shape              Param #   \n",
      "=================================================================\n",
      " dense_25 (Dense)            (1, 100)                  1100      \n",
      "                                                                 \n",
      " dense_26 (Dense)            (1, 1)                    101       \n",
      "                                                                 \n",
      "=================================================================\n",
      "Total params: 1,201\n",
      "Trainable params: 1,201\n",
      "Non-trainable params: 0\n",
      "_________________________________________________________________\n"
     ]
    }
   ],
   "source": [
    "model.build([1,10])\n",
    "\n",
    "model.summary()"
   ]
  },
  {
   "cell_type": "markdown",
   "id": "f150f142",
   "metadata": {},
   "source": [
    "Furthermore, we will use the binary_crossentropy loss function since we are performing a binary classification"
   ]
  },
  {
   "cell_type": "code",
   "execution_count": 78,
   "id": "bce9b488",
   "metadata": {},
   "outputs": [],
   "source": [
    "model.compile(loss=\"binary_crossentropy\", optimizer=\"SGD\", metrics=[\"accuracy\"])"
   ]
  },
  {
   "cell_type": "code",
   "execution_count": 79,
   "id": "6e414676",
   "metadata": {},
   "outputs": [
    {
     "name": "stdout",
     "output_type": "stream",
     "text": [
      "Epoch 1/30\n",
      "375/375 [==============================] - 1s 904us/step - loss: 0.9455 - accuracy: 0.7508 - val_loss: 0.4763 - val_accuracy: 0.7695\n",
      "Epoch 2/30\n",
      "375/375 [==============================] - 0s 700us/step - loss: 0.4947 - accuracy: 0.7691 - val_loss: 0.4706 - val_accuracy: 0.7688\n",
      "Epoch 3/30\n",
      "375/375 [==============================] - 0s 698us/step - loss: 0.4818 - accuracy: 0.7733 - val_loss: 0.4920 - val_accuracy: 0.7703\n",
      "Epoch 4/30\n",
      "375/375 [==============================] - 0s 707us/step - loss: 0.4732 - accuracy: 0.7831 - val_loss: 0.4852 - val_accuracy: 0.7778\n",
      "Epoch 5/30\n",
      "375/375 [==============================] - 0s 685us/step - loss: 0.4672 - accuracy: 0.7884 - val_loss: 0.4640 - val_accuracy: 0.7995\n",
      "Epoch 6/30\n",
      "375/375 [==============================] - 0s 691us/step - loss: 0.4583 - accuracy: 0.7911 - val_loss: 0.4476 - val_accuracy: 0.8018\n",
      "Epoch 7/30\n",
      "375/375 [==============================] - 0s 696us/step - loss: 0.4563 - accuracy: 0.7970 - val_loss: 0.4366 - val_accuracy: 0.7913\n",
      "Epoch 8/30\n",
      "375/375 [==============================] - 0s 696us/step - loss: 0.4501 - accuracy: 0.7996 - val_loss: 0.4448 - val_accuracy: 0.7883\n",
      "Epoch 9/30\n",
      "375/375 [==============================] - 0s 691us/step - loss: 0.4462 - accuracy: 0.8010 - val_loss: 0.4347 - val_accuracy: 0.7935\n",
      "Epoch 10/30\n",
      "375/375 [==============================] - 0s 692us/step - loss: 0.4454 - accuracy: 0.7975 - val_loss: 0.4222 - val_accuracy: 0.8048\n",
      "Epoch 11/30\n",
      "375/375 [==============================] - 0s 695us/step - loss: 0.4420 - accuracy: 0.8021 - val_loss: 0.4491 - val_accuracy: 0.7815\n",
      "Epoch 12/30\n",
      "375/375 [==============================] - 0s 725us/step - loss: 0.4386 - accuracy: 0.8038 - val_loss: 0.4491 - val_accuracy: 0.8048\n",
      "Epoch 13/30\n",
      "375/375 [==============================] - 0s 707us/step - loss: 0.4391 - accuracy: 0.7996 - val_loss: 0.4088 - val_accuracy: 0.8176\n",
      "Epoch 14/30\n",
      "375/375 [==============================] - 0s 696us/step - loss: 0.4355 - accuracy: 0.8052 - val_loss: 0.4267 - val_accuracy: 0.8063\n",
      "Epoch 15/30\n",
      "375/375 [==============================] - 0s 709us/step - loss: 0.4374 - accuracy: 0.8045 - val_loss: 0.4263 - val_accuracy: 0.8041\n",
      "Epoch 16/30\n",
      "375/375 [==============================] - 0s 691us/step - loss: 0.4337 - accuracy: 0.8073 - val_loss: 0.4181 - val_accuracy: 0.8146\n",
      "Epoch 17/30\n",
      "375/375 [==============================] - 0s 691us/step - loss: 0.4317 - accuracy: 0.8075 - val_loss: 0.8147 - val_accuracy: 0.5541\n",
      "Epoch 18/30\n",
      "375/375 [==============================] - 0s 696us/step - loss: 0.4338 - accuracy: 0.8034 - val_loss: 0.4708 - val_accuracy: 0.7845\n",
      "Epoch 19/30\n",
      "375/375 [==============================] - 0s 691us/step - loss: 0.4260 - accuracy: 0.8074 - val_loss: 0.4974 - val_accuracy: 0.7665\n",
      "Epoch 20/30\n",
      "375/375 [==============================] - 0s 691us/step - loss: 0.4310 - accuracy: 0.8064 - val_loss: 0.4091 - val_accuracy: 0.8116\n",
      "Epoch 21/30\n",
      "375/375 [==============================] - 0s 689us/step - loss: 0.4307 - accuracy: 0.8065 - val_loss: 0.4647 - val_accuracy: 0.7958\n",
      "Epoch 22/30\n",
      "375/375 [==============================] - 0s 698us/step - loss: 0.4260 - accuracy: 0.8089 - val_loss: 0.3985 - val_accuracy: 0.8168\n",
      "Epoch 23/30\n",
      "375/375 [==============================] - 0s 711us/step - loss: 0.4250 - accuracy: 0.8056 - val_loss: 0.4231 - val_accuracy: 0.8003\n",
      "Epoch 24/30\n",
      "375/375 [==============================] - 0s 691us/step - loss: 0.4304 - accuracy: 0.8066 - val_loss: 0.4180 - val_accuracy: 0.8063\n",
      "Epoch 25/30\n",
      "375/375 [==============================] - 0s 694us/step - loss: 0.4298 - accuracy: 0.8059 - val_loss: 0.4645 - val_accuracy: 0.7965\n",
      "Epoch 26/30\n",
      "375/375 [==============================] - 0s 700us/step - loss: 0.4260 - accuracy: 0.8085 - val_loss: 0.4659 - val_accuracy: 0.7830\n",
      "Epoch 27/30\n",
      "375/375 [==============================] - 0s 696us/step - loss: 0.4301 - accuracy: 0.8113 - val_loss: 0.4352 - val_accuracy: 0.7913\n",
      "Epoch 28/30\n",
      "375/375 [==============================] - 0s 692us/step - loss: 0.4297 - accuracy: 0.8058 - val_loss: 0.4119 - val_accuracy: 0.8101\n",
      "Epoch 29/30\n",
      "375/375 [==============================] - 0s 706us/step - loss: 0.4274 - accuracy: 0.8073 - val_loss: 0.4115 - val_accuracy: 0.8033\n",
      "Epoch 30/30\n",
      "375/375 [==============================] - 0s 707us/step - loss: 0.4279 - accuracy: 0.8090 - val_loss: 0.4071 - val_accuracy: 0.8093\n"
     ]
    }
   ],
   "source": [
    "history = model.fit(x_train, y_train, epochs=30, validation_split=0.1)"
   ]
  },
  {
   "cell_type": "markdown",
   "id": "31a5540c",
   "metadata": {},
   "source": [
    "## Evaluating the Model"
   ]
  },
  {
   "cell_type": "code",
   "execution_count": 90,
   "id": "e48eb5ad",
   "metadata": {},
   "outputs": [
    {
     "data": {
      "image/png": "[encoded data removed]",
      "text/plain": [
       "<Figure size 800x500 with 1 Axes>"
      ]
     },
     "metadata": {},
     "output_type": "display_data"
    }
   ],
   "source": [
    "pd.DataFrame(history.history).plot(figsize=(8, 5))\n",
    "plt.grid(True)\n",
    "plt.gca().set_ylim(0, 1)\n",
    "\n",
    "plt.show()"
   ]
  },
  {
   "cell_type": "code",
   "execution_count": 92,
   "id": "82681476",
   "metadata": {},
   "outputs": [
    {
     "name": "stdout",
     "output_type": "stream",
     "text": [
      "179/179 [==============================] - 0s 530us/step - loss: 0.4377 - accuracy: 0.8058\n"
     ]
    },
    {
     "data": {
      "text/plain": [
       "[0.4376879632472992, 0.8058184385299683]"
      ]
     },
     "execution_count": 92,
     "metadata": {},
     "output_type": "execute_result"
    }
   ],
   "source": [
    "model.evaluate(x_test, y_test)"
   ]
  },
  {
   "cell_type": "markdown",
   "id": "82e46c77",
   "metadata": {},
   "source": [
    "## Making Predictions"
   ]
  },
  {
   "cell_type": "code",
   "execution_count": 93,
   "id": "4d7a56e2",
   "metadata": {},
   "outputs": [
    {
     "name": "stdout",
     "output_type": "stream",
     "text": [
      "1/1 [==============================] - 0s 29ms/step\n"
     ]
    }
   ],
   "source": [
    "x_new = x_test[:10]\n",
    "y_prob = model.predict(x_new)\n",
    "\n",
    "y_pred = y_prob.round(0)"
   ]
  },
  {
   "cell_type": "markdown",
   "id": "bbe40e93",
   "metadata": {},
   "source": [
    "Let's visually compare the predicted values vs. the actual values"
   ]
  },
  {
   "cell_type": "code",
   "execution_count": 94,
   "id": "9772c10f",
   "metadata": {},
   "outputs": [
    {
     "data": {
      "text/plain": [
       "array([[1.],\n",
       "       [1.],\n",
       "       [1.],\n",
       "       [1.],\n",
       "       [1.],\n",
       "       [1.],\n",
       "       [1.],\n",
       "       [0.],\n",
       "       [1.],\n",
       "       [1.]], dtype=float32)"
      ]
     },
     "execution_count": 94,
     "metadata": {},
     "output_type": "execute_result"
    }
   ],
   "source": [
    "y_pred"
   ]
  },
  {
   "cell_type": "code",
   "execution_count": 95,
   "id": "0f392678",
   "metadata": {},
   "outputs": [
    {
     "data": {
      "text/plain": [
       "8492     1\n",
       "7014     1\n",
       "9781     1\n",
       "930      1\n",
       "15657    0\n",
       "13763    0\n",
       "6971     1\n",
       "12753    0\n",
       "13134    0\n",
       "5664     1\n",
       "Name: 10, dtype: int64"
      ]
     },
     "execution_count": 95,
     "metadata": {},
     "output_type": "execute_result"
    }
   ],
   "source": [
    "y_test[:10]"
   ]
  },
  {
   "cell_type": "markdown",
   "id": "5cd96386",
   "metadata": {},
   "source": [
    "To convert the binary values back into the original classes, we can define a classification function *classify()*"
   ]
  },
  {
   "cell_type": "code",
   "execution_count": 96,
   "id": "171fb31a",
   "metadata": {},
   "outputs": [],
   "source": [
    "def classify(probability):\n",
    "    if probability > 0.5:\n",
    "        return 'g'\n",
    "    else:\n",
    "        return 'h'"
   ]
  },
  {
   "cell_type": "code",
   "execution_count": 97,
   "id": "af7dc9da",
   "metadata": {},
   "outputs": [
    {
     "data": {
      "text/plain": [
       "array([['g'],\n",
       "       ['g'],\n",
       "       ['g'],\n",
       "       ['g'],\n",
       "       ['g'],\n",
       "       ['g'],\n",
       "       ['g'],\n",
       "       ['h'],\n",
       "       ['g'],\n",
       "       ['g']], dtype='<U1')"
      ]
     },
     "execution_count": 97,
     "metadata": {},
     "output_type": "execute_result"
    }
   ],
   "source": [
    "y_pred = []\n",
    "\n",
    "for i in y_prob:\n",
    "    y_pred.append(classify(i))\n",
    "    \n",
    "y_pred = np.reshape(y_pred, (10, 1))\n",
    "\n",
    "y_pred"
   ]
  },
  {
   "cell_type": "markdown",
   "id": "7f43c6bb",
   "metadata": {},
   "source": [
    "# Hyperparameter Fine-Tuning"
   ]
  },
  {
   "cell_type": "code",
   "execution_count": 98,
   "id": "fc8e2823",
   "metadata": {},
   "outputs": [],
   "source": [
    "def build_model(n_hidden=1, n_neurons=10, l1=0.01, l2=0.01):\n",
    "    model = keras.models.Sequential()\n",
    "    \n",
    "    # add n number of hidden layers\n",
    "    for layer in range(n_hidden):\n",
    "        # each layer will have n number of neurons\n",
    "        model.add(keras.layers.Dense(n_neurons, activation=\"relu\", \n",
    "                                     kernel_regularizer=keras.regularizers.l1_l2(l1=l1, l2=l2))) \n",
    "        \n",
    "    model.add(keras.layers.Dense(1, activation=\"sigmoid\")) # add output layer\n",
    "    \n",
    "    model.compile(loss=\"binary_crossentropy\", optimizer=\"SGD\", metrics=[\"accuracy\"]) # compile model\n",
    "    \n",
    "    return model\n",
    "    "
   ]
  },
  {
   "cell_type": "markdown",
   "id": "7546656a",
   "metadata": {},
   "source": [
    "We will use a SciKit-Learn for hyperparamater tuning by using a Keras wrapper."
   ]
  },
  {
   "cell_type": "code",
   "execution_count": 99,
   "id": "73965ed3",
   "metadata": {},
   "outputs": [
    {
     "name": "stderr",
     "output_type": "stream",
     "text": [
      "C:\\Users\\thoma\\AppData\\Local\\Temp\\ipykernel_14720\\1341954221.py:1: DeprecationWarning: KerasClassifier is deprecated, use Sci-Keras (https://github.com/adriangb/scikeras) instead. See https://www.adriangb.com/scikeras/stable/migration.html for help migrating.\n",
      "  keras_clf = keras.wrappers.scikit_learn.KerasClassifier(build_model)\n"
     ]
    }
   ],
   "source": [
    "keras_clf = keras.wrappers.scikit_learn.KerasClassifier(build_model)"
   ]
  },
  {
   "cell_type": "code",
   "execution_count": 100,
   "id": "aac5ff18",
   "metadata": {},
   "outputs": [],
   "source": [
    "from sklearn.model_selection import GridSearchCV"
   ]
  },
  {
   "cell_type": "code",
   "execution_count": 101,
   "id": "2969848e",
   "metadata": {},
   "outputs": [],
   "source": [
    "params = {\n",
    "    \"n_hidden\": [0, 1, 2],\n",
    "    \"n_neurons\": [50, 100, 200],\n",
    "    \"l1\": [0.01, 0.001],\n",
    "    \"l2\": [0.01, 0.001]\n",
    "}"
   ]
  },
  {
   "cell_type": "code",
   "execution_count": 102,
   "id": "3314a4a6",
   "metadata": {},
   "outputs": [
    {
     "name": "stdout",
     "output_type": "stream",
     "text": [
      "Epoch 1/15\n",
      "375/375 [==============================] - 1s 1ms/step - loss: 2.0017 - accuracy: 0.7414 - val_loss: 1.5128 - val_accuracy: 0.7613\n",
      "Epoch 2/15\n",
      "375/375 [==============================] - 0s 801us/step - loss: 1.4998 - accuracy: 0.7672 - val_loss: 1.5098 - val_accuracy: 0.7635\n",
      "Epoch 3/15\n",
      "375/375 [==============================] - 0s 805us/step - loss: 1.4337 - accuracy: 0.7734 - val_loss: 1.3818 - val_accuracy: 0.7913\n",
      "Epoch 4/15\n",
      "375/375 [==============================] - 0s 802us/step - loss: 1.3717 - accuracy: 0.7850 - val_loss: 1.3266 - val_accuracy: 0.7920\n",
      "Epoch 5/15\n",
      "375/375 [==============================] - 0s 795us/step - loss: 1.3136 - accuracy: 0.7898 - val_loss: 1.2652 - val_accuracy: 0.8086\n",
      "Epoch 6/15\n",
      "375/375 [==============================] - 0s 801us/step - loss: 1.2589 - accuracy: 0.7928 - val_loss: 1.2044 - val_accuracy: 0.8063\n",
      "Epoch 7/15\n",
      "375/375 [==============================] - 0s 796us/step - loss: 1.2055 - accuracy: 0.7978 - val_loss: 1.1889 - val_accuracy: 0.7965\n",
      "Epoch 8/15\n",
      "375/375 [==============================] - 0s 794us/step - loss: 1.1577 - accuracy: 0.8044 - val_loss: 1.1034 - val_accuracy: 0.8198\n",
      "Epoch 9/15\n",
      "375/375 [==============================] - 0s 795us/step - loss: 1.1117 - accuracy: 0.8047 - val_loss: 1.0868 - val_accuracy: 0.8191\n",
      "Epoch 10/15\n",
      "375/375 [==============================] - 0s 794us/step - loss: 1.0654 - accuracy: 0.8087 - val_loss: 1.0460 - val_accuracy: 0.8026\n",
      "Epoch 11/15\n",
      "375/375 [==============================] - 0s 785us/step - loss: 1.0232 - accuracy: 0.8095 - val_loss: 0.9898 - val_accuracy: 0.8086\n",
      "Epoch 12/15\n",
      "375/375 [==============================] - 0s 794us/step - loss: 0.9812 - accuracy: 0.8085 - val_loss: 0.9682 - val_accuracy: 0.8041\n",
      "Epoch 13/15\n",
      "375/375 [==============================] - 0s 790us/step - loss: 0.9413 - accuracy: 0.8132 - val_loss: 0.9287 - val_accuracy: 0.7973\n",
      "Epoch 14/15\n",
      "375/375 [==============================] - 0s 790us/step - loss: 0.9055 - accuracy: 0.8165 - val_loss: 0.8985 - val_accuracy: 0.8078\n",
      "Epoch 15/15\n",
      "375/375 [==============================] - 0s 790us/step - loss: 0.8720 - accuracy: 0.8153 - val_loss: 0.8480 - val_accuracy: 0.8138\n"
     ]
    },
    {
     "data": {
      "text/plain": [
       "GridSearchCV(cv=5,\n",
       "             estimator=<keras.wrappers.scikit_learn.KerasClassifier object at 0x00000214A1F7BE80>,\n",
       "             n_jobs=-1,\n",
       "             param_grid={'l1': [0.01, 0.001], 'l2': [0.01, 0.001],\n",
       "                         'n_hidden': [0, 1, 2], 'n_neurons': [50, 100, 200]})"
      ]
     },
     "execution_count": 102,
     "metadata": {},
     "output_type": "execute_result"
    }
   ],
   "source": [
    "grid_search = GridSearchCV(keras_clf, params, cv=5, n_jobs=-1)\n",
    "\n",
    "grid_search.fit(x_train, y_train, epochs=15, validation_split=0.1,\n",
    "               callbacks=[keras.callbacks.EarlyStopping(patience=10)])"
   ]
  },
  {
   "cell_type": "code",
   "execution_count": 198,
   "id": "72b26d7e",
   "metadata": {},
   "outputs": [
    {
     "data": {
      "text/plain": [
       "{'l1': 0.001, 'l2': 0.001, 'n_hidden': 2, 'n_neurons': 100}"
      ]
     },
     "execution_count": 198,
     "metadata": {},
     "output_type": "execute_result"
    }
   ],
   "source": [
    "grid_search.best_params_"
   ]
  },
  {
   "cell_type": "code",
   "execution_count": 199,
   "id": "bf36684c",
   "metadata": {},
   "outputs": [
    {
     "data": {
      "image/png": "[encoded data removed]",
      "text/plain": [
       "<Figure size 800x500 with 1 Axes>"
      ]
     },
     "metadata": {},
     "output_type": "display_data"
    }
   ],
   "source": [
    "values = pd.DataFrame()\n",
    "\n",
    "values['mean_test_score'] = grid_search.cv_results_['mean_test_score']\n",
    "\n",
    "values.plot(figsize=(8, 5))\n",
    "plt.gca().set_ylim(0, 1)\n",
    "\n",
    "plt.grid(True)\n",
    "plt.show()"
   ]
  },
  {
   "cell_type": "code",
   "execution_count": 200,
   "id": "c2c4c6ff",
   "metadata": {},
   "outputs": [
    {
     "name": "stdout",
     "output_type": "stream",
     "text": [
      "Model: \"sequential_9\"\n",
      "_________________________________________________________________\n",
      " Layer (type)                Output Shape              Param #   \n",
      "=================================================================\n",
      " dense_27 (Dense)            (None, 100)               1100      \n",
      "                                                                 \n",
      " dense_28 (Dense)            (None, 100)               10100     \n",
      "                                                                 \n",
      " dense_29 (Dense)            (None, 1)                 101       \n",
      "                                                                 \n",
      "=================================================================\n",
      "Total params: 11,301\n",
      "Trainable params: 11,301\n",
      "Non-trainable params: 0\n",
      "_________________________________________________________________\n"
     ]
    }
   ],
   "source": [
    "optimised_model = grid_search.best_estimator_.model\n",
    "\n",
    "optimised_model.summary()"
   ]
  },
  {
   "cell_type": "markdown",
   "id": "6554a72a",
   "metadata": {},
   "source": [
    "# Tuning Results\n",
    "\n",
    "## Before"
   ]
  },
  {
   "cell_type": "code",
   "execution_count": 201,
   "id": "5ca20733",
   "metadata": {},
   "outputs": [
    {
     "name": "stdout",
     "output_type": "stream",
     "text": [
      "179/179 [==============================] - 0s 534us/step - loss: 0.4377 - accuracy: 0.8058\n"
     ]
    }
   ],
   "source": [
    "results_1 = model.evaluate(x_test, y_test)"
   ]
  },
  {
   "cell_type": "markdown",
   "id": "668f0f65",
   "metadata": {},
   "source": [
    "## After"
   ]
  },
  {
   "cell_type": "code",
   "execution_count": 202,
   "id": "2a88562a",
   "metadata": {},
   "outputs": [
    {
     "name": "stdout",
     "output_type": "stream",
     "text": [
      "179/179 [==============================] - 0s 629us/step - loss: 0.4294 - accuracy: 0.8288\n"
     ]
    }
   ],
   "source": [
    "results_2 = optimised_model.evaluate(x_test, y_test)"
   ]
  },
  {
   "cell_type": "code",
   "execution_count": 203,
   "id": "bae9e834",
   "metadata": {},
   "outputs": [
    {
     "data": {
      "text/plain": [
       "'2.85% increase in accuracy.'"
      ]
     },
     "execution_count": 203,
     "metadata": {},
     "output_type": "execute_result"
    }
   ],
   "source": [
    "increase = (results_2[1] / results_1[1] - 1) * 100\n",
    "\n",
    "str(np.round(increase, 2)) + '% increase in accuracy.'"
   ]
  },
  {
   "cell_type": "code",
   "execution_count": null,
   "id": "a24bf247",
   "metadata": {},
   "outputs": [],
   "source": []
  }
 ],
 "metadata": {
  "kernelspec": {
   "display_name": "Python 3 (ipykernel)",
   "language": "python",
   "name": "python3"
  },
  "language_info": {
   "codemirror_mode": {
    "name": "ipython",
    "version": 3
   },
   "file_extension": ".py",
   "mimetype": "text/x-python",
   "name": "python",
   "nbconvert_exporter": "python",
   "pygments_lexer": "ipython3",
   "version": "3.9.13"
  }
 },
 "nbformat": 4,
 "nbformat_minor": 5
}
